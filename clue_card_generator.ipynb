{
 "cells": [
  {
   "cell_type": "code",
   "execution_count": 3,
   "metadata": {},
   "outputs": [],
   "source": [
    "import numpy as np\n",
    "\n",
    "import seaborn as sns\n",
    "import matplotlib.pyplot as plt"
   ]
  },
  {
   "cell_type": "markdown",
   "metadata": {},
   "source": [
    "Below the following scheme is used:\n",
    "- 0 corresponds to the gray boxes, of which there are 4\n",
    "- 1 corresponds to the single black box\n",
    "- 2 corresponds to the blue boxes, of which there are either 7 or 8\n",
    "- 3 corresponds to the red boxes, of which there are 7 or 8 (opposite of the number of blue boxes)\n"
   ]
  },
  {
   "cell_type": "code",
   "execution_count": 4,
   "metadata": {},
   "outputs": [
    {
     "data": {
      "image/png": "[encoded data removed]",
      "text/plain": [
       "<Figure size 432x288 with 1 Axes>"
      ]
     },
     "metadata": {},
     "output_type": "display_data"
    }
   ],
   "source": [
    "# gray, black, blue, red\n",
    "palette = [\"#d9d9d9\", \"#000000\", \"#08519c\", \"#cb181d\"]\n",
    "\n",
    "# decide if red or blue dominates\n",
    "blue_or_red = np.random.choice([0,1])\n",
    "\n",
    "# construct the list of colors to be used\n",
    "# when blue dominates\n",
    "if blue_or_red == 0:\n",
    "    color_list = [0]*4 + [1] + [2]*8 + [3]*7\n",
    "    \n",
    "# when red dominates    \n",
    "if blue_or_red == 1:\n",
    "    color_list = [0]*4 + [1] + [2]*7 + [3]*8\n",
    "\n",
    "# shuffle colors and arrange in a grid\n",
    "np.random.shuffle(color_list)\n",
    "color_array = np.array(color_list).reshape(5,4)\n",
    "\n",
    "# plotting and styling\n",
    "sns.heatmap(color_array,\n",
    "            xticklabels=False, \n",
    "            yticklabels=False, \n",
    "            cmap=palette,\n",
    "            cbar=False,\n",
    "            square=True,\n",
    "            linewidths=2,\n",
    "            linecolor='k')\n",
    "\n",
    "plt.title(\"TOP\", fontsize=20);\n",
    "\n",
    "# Uncomment to save the figure \n",
    "#plt.savefig(\"clue_card.png\")"
   ]
  },
  {
   "cell_type": "code",
   "execution_count": null,
   "metadata": {},
   "outputs": [],
   "source": []
  }
 ],
 "metadata": {
  "kernelspec": {
   "display_name": "Python 3",
   "language": "python",
   "name": "python3"
  },
  "language_info": {
   "codemirror_mode": {
    "name": "ipython",
    "version": 3
   },
   "file_extension": ".py",
   "mimetype": "text/x-python",
   "name": "python",
   "nbconvert_exporter": "python",
   "pygments_lexer": "ipython3",
   "version": "3.7.3"
  }
 },
 "nbformat": 4,
 "nbformat_minor": 2
}
